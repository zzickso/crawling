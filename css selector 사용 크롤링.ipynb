{
 "cells": [
  {
   "cell_type": "code",
   "execution_count": 2,
   "id": "6302d374",
   "metadata": {},
   "outputs": [
    {
     "name": "stdout",
     "output_type": "stream",
     "text": [
      "(왕초보) - 클래스 소개\n",
      "(왕초보) - 블로그 개발 필요한 준비물 준비하기\n",
      "(왕초보) - Github pages 설정해서 블로그 첫 페이지 만들어보기\n",
      "(왕초보) - 초간단 페이지 만들어보기\n",
      "(왕초보) - 이쁘게 테마 적용해보기\n",
      "(왕초보) - 마크다운 기초 이해하고, 실제 나만의 블로그 페이지 만들기\n",
      "(왕초보) - 다양한 마크다운 기법 익혀보며, 나만의 블로그 페이지 꾸며보기\n",
      "(초급) - 강사가 실제 사용하는 자동 프로그램 소개 [2]\n",
      "(초급) - 필요한 프로그램 설치 시연 [5]\n",
      "(초급) - 데이터를 엑셀 파일로 만들기 [9]\n",
      "(초급) -     엑셀 파일 이쁘게! 이쁘게! [8]\n",
      "(초급) -     나대신 주기적으로 파이썬 프로그램 실행하기 [7]\n",
      "(초급) - 파이썬으로 슬랙(slack) 메신저에 글쓰기 [40]\n",
      "(초급) - 웹사이트 변경사항 주기적으로 체크해서, 메신저로 알람주기 [12]\n",
      "(초급) - 네이버 API 사용해서, 블로그에 글쓰기 [42]\n",
      "(중급) - 자동으로 쿠팡파트너스 API 로 가져온 상품 정보, 네이버 블로그/트위터에 홍보하기 [412]\n"
     ]
    }
   ],
   "source": [
    "import requests\n",
    "from bs4 import BeautifulSoup\n",
    "\n",
    "res = requests.get('https://davelee-fun.github.io/blog/crawl_test_css.html')\n",
    "soup = BeautifulSoup(res.content, 'html.parser')\n",
    "items =soup.select('li')\n",
    "for item in items:\n",
    "    print(item.get_text())"
   ]
  },
  {
   "cell_type": "code",
   "execution_count": 3,
   "id": "c59e669d",
   "metadata": {},
   "outputs": [
    {
     "name": "stdout",
     "output_type": "stream",
     "text": [
      "잔재미코딩 크롤링 테스트 페이지 (커리큘럼)\n"
     ]
    }
   ],
   "source": [
    "import requests\n",
    "from bs4 import BeautifulSoup\n",
    "\n",
    "res = requests.get('https://davelee-fun.github.io/blog/crawl_test_css.html')\n",
    "soup = BeautifulSoup(res.content, 'html.parser')\n",
    "items =soup.select('html body h1')\n",
    "for item in items:\n",
    "    print(item.get_text())"
   ]
  },
  {
   "cell_type": "code",
   "execution_count": 5,
   "id": "ebd0d35b",
   "metadata": {},
   "outputs": [
    {
     "name": "stdout",
     "output_type": "stream",
     "text": [
      "(왕초보) - 클래스 소개\n",
      "(왕초보) - 블로그 개발 필요한 준비물 준비하기\n",
      "(왕초보) - Github pages 설정해서 블로그 첫 페이지 만들어보기\n",
      "(왕초보) - 초간단 페이지 만들어보기\n",
      "(왕초보) - 이쁘게 테마 적용해보기\n",
      "(왕초보) - 마크다운 기초 이해하고, 실제 나만의 블로그 페이지 만들기\n",
      "(왕초보) - 다양한 마크다운 기법 익혀보며, 나만의 블로그 페이지 꾸며보기\n",
      "(초급) - 강사가 실제 사용하는 자동 프로그램 소개 [2]\n",
      "(초급) - 필요한 프로그램 설치 시연 [5]\n",
      "(초급) - 데이터를 엑셀 파일로 만들기 [9]\n",
      "(초급) -     엑셀 파일 이쁘게! 이쁘게! [8]\n",
      "(초급) -     나대신 주기적으로 파이썬 프로그램 실행하기 [7]\n",
      "(초급) - 파이썬으로 슬랙(slack) 메신저에 글쓰기 [40]\n",
      "(초급) - 웹사이트 변경사항 주기적으로 체크해서, 메신저로 알람주기 [12]\n",
      "(초급) - 네이버 API 사용해서, 블로그에 글쓰기 [42]\n",
      "(중급) - 자동으로 쿠팡파트너스 API 로 가져온 상품 정보, 네이버 블로그/트위터에 홍보하기 [412]\n"
     ]
    }
   ],
   "source": [
    "import requests\n",
    "from bs4 import BeautifulSoup\n",
    "\n",
    "res = requests.get('https://davelee-fun.github.io/blog/crawl_test_css.html')\n",
    "soup = BeautifulSoup(res.content, 'html.parser')\n",
    "items =soup.select('ul li')\n",
    "for item in items:\n",
    "    print(item.get_text())"
   ]
  },
  {
   "cell_type": "markdown",
   "id": "fb10110a",
   "metadata": {},
   "source": [
    "#### 클래스로 찾기 .classname"
   ]
  },
  {
   "cell_type": "code",
   "execution_count": 6,
   "id": "b33e1a89",
   "metadata": {},
   "outputs": [
    {
     "name": "stdout",
     "output_type": "stream",
     "text": [
      "(왕초보) - 클래스 소개\n",
      "(왕초보) - 블로그 개발 필요한 준비물 준비하기\n",
      "(왕초보) - Github pages 설정해서 블로그 첫 페이지 만들어보기\n",
      "(왕초보) - 초간단 페이지 만들어보기\n",
      "(왕초보) - 이쁘게 테마 적용해보기\n",
      "(왕초보) - 마크다운 기초 이해하고, 실제 나만의 블로그 페이지 만들기\n",
      "(왕초보) - 다양한 마크다운 기법 익혀보며, 나만의 블로그 페이지 꾸며보기\n",
      "(초급) - 강사가 실제 사용하는 자동 프로그램 소개 [2]\n",
      "(초급) - 필요한 프로그램 설치 시연 [5]\n",
      "(초급) - 데이터를 엑셀 파일로 만들기 [9]\n",
      "(초급) -     엑셀 파일 이쁘게! 이쁘게! [8]\n",
      "(초급) -     나대신 주기적으로 파이썬 프로그램 실행하기 [7]\n",
      "(초급) - 파이썬으로 슬랙(slack) 메신저에 글쓰기 [40]\n",
      "(초급) - 웹사이트 변경사항 주기적으로 체크해서, 메신저로 알람주기 [12]\n",
      "(초급) - 네이버 API 사용해서, 블로그에 글쓰기 [42]\n",
      "(중급) - 자동으로 쿠팡파트너스 API 로 가져온 상품 정보, 네이버 블로그/트위터에 홍보하기 [412]\n"
     ]
    }
   ],
   "source": [
    "import requests\n",
    "from bs4 import BeautifulSoup\n",
    "\n",
    "res = requests.get('https://davelee-fun.github.io/blog/crawl_test_css.html')\n",
    "soup = BeautifulSoup(res.content, 'html.parser')\n",
    "items =soup.select('.course')\n",
    "for item in items:\n",
    "    print(item.get_text())"
   ]
  },
  {
   "cell_type": "markdown",
   "id": "2efb2576",
   "metadata": {},
   "source": [
    "#### id이름으로 검색"
   ]
  },
  {
   "cell_type": "code",
   "execution_count": 7,
   "id": "e6c9f2da",
   "metadata": {},
   "outputs": [
    {
     "name": "stdout",
     "output_type": "stream",
     "text": [
      "(왕초보) - 클래스 소개\n",
      "(왕초보) - 블로그 개발 필요한 준비물 준비하기\n",
      "(왕초보) - Github pages 설정해서 블로그 첫 페이지 만들어보기\n",
      "(왕초보) - 초간단 페이지 만들어보기\n",
      "(왕초보) - 이쁘게 테마 적용해보기\n",
      "(왕초보) - 마크다운 기초 이해하고, 실제 나만의 블로그 페이지 만들기\n",
      "(왕초보) - 다양한 마크다운 기법 익혀보며, 나만의 블로그 페이지 꾸며보기\n"
     ]
    }
   ],
   "source": [
    "import requests\n",
    "from bs4 import BeautifulSoup\n",
    "\n",
    "res = requests.get('https://davelee-fun.github.io/blog/crawl_test_css.html')\n",
    "soup = BeautifulSoup(res.content, 'html.parser')\n",
    "items =soup.select('#start')\n",
    "for item in items:\n",
    "    print(item.get_text())"
   ]
  },
  {
   "cell_type": "code",
   "execution_count": 8,
   "id": "839ff63c",
   "metadata": {},
   "outputs": [
    {
     "name": "stdout",
     "output_type": "stream",
     "text": [
      "(초급) - 강사가 실제 사용하는 자동 프로그램 소개 [2]\n",
      "(초급) - 필요한 프로그램 설치 시연 [5]\n",
      "(초급) - 데이터를 엑셀 파일로 만들기 [9]\n",
      "(초급) -     엑셀 파일 이쁘게! 이쁘게! [8]\n",
      "(초급) -     나대신 주기적으로 파이썬 프로그램 실행하기 [7]\n",
      "(초급) - 파이썬으로 슬랙(slack) 메신저에 글쓰기 [40]\n",
      "(초급) - 웹사이트 변경사항 주기적으로 체크해서, 메신저로 알람주기 [12]\n",
      "(초급) - 네이버 API 사용해서, 블로그에 글쓰기 [42]\n"
     ]
    }
   ],
   "source": [
    "import requests\n",
    "from bs4 import BeautifulSoup\n",
    "\n",
    "res = requests.get('https://davelee-fun.github.io/blog/crawl_test_css.html')\n",
    "soup = BeautifulSoup(res.content, 'html.parser')\n",
    "items =soup.select('#begin')\n",
    "for item in items:\n",
    "    print(item.get_text())"
   ]
  },
  {
   "cell_type": "code",
   "execution_count": 9,
   "id": "2587c7af",
   "metadata": {},
   "outputs": [
    {
     "name": "stdout",
     "output_type": "stream",
     "text": [
      "(중급) - 자동으로 쿠팡파트너스 API 로 가져온 상품 정보, 네이버 블로그/트위터에 홍보하기 [412]\n"
     ]
    }
   ],
   "source": [
    "import requests\n",
    "from bs4 import BeautifulSoup\n",
    "\n",
    "res = requests.get('https://davelee-fun.github.io/blog/crawl_test_css.html')\n",
    "soup = BeautifulSoup(res.content, 'html.parser')\n",
    "items =soup.select('#advance')\n",
    "for item in items:\n",
    "    print(item.get_text())"
   ]
  },
  {
   "cell_type": "markdown",
   "id": "ad334704",
   "metadata": {},
   "source": [
    "#### 태그.클래스이름1.클래스이름2. ..."
   ]
  },
  {
   "cell_type": "code",
   "execution_count": 10,
   "id": "055cd2ee",
   "metadata": {},
   "outputs": [
    {
     "name": "stdout",
     "output_type": "stream",
     "text": [
      "(중급) - 자동으로 쿠팡파트너스 API 로 가져온 상품 정보, 네이버 블로그/트위터에 홍보하기 [412]\n"
     ]
    }
   ],
   "source": [
    "import requests\n",
    "from bs4 import BeautifulSoup\n",
    "\n",
    "res = requests.get('https://davelee-fun.github.io/blog/crawl_test_css.html')\n",
    "soup = BeautifulSoup(res.content, 'html.parser')\n",
    "items =soup.select('li.course.paid')\n",
    "for item in items:\n",
    "    print(item.get_text())"
   ]
  },
  {
   "cell_type": "markdown",
   "id": "101c0860",
   "metadata": {},
   "source": [
    "#### 복합예제"
   ]
  },
  {
   "cell_type": "code",
   "execution_count": 11,
   "id": "dbbedd9d",
   "metadata": {
    "scrolled": true
   },
   "outputs": [
    {
     "name": "stdout",
     "output_type": "stream",
     "text": [
      "(왕초보) - 클래스 소개\n",
      "(왕초보) - 블로그 개발 필요한 준비물 준비하기\n",
      "(왕초보) - Github pages 설정해서 블로그 첫 페이지 만들어보기\n",
      "(왕초보) - 초간단 페이지 만들어보기\n",
      "(왕초보) - 이쁘게 테마 적용해보기\n",
      "(왕초보) - 마크다운 기초 이해하고, 실제 나만의 블로그 페이지 만들기\n",
      "(왕초보) - 다양한 마크다운 기법 익혀보며, 나만의 블로그 페이지 꾸며보기\n"
     ]
    }
   ],
   "source": [
    "import requests\n",
    "from bs4 import BeautifulSoup\n",
    "\n",
    "res = requests.get('https://davelee-fun.github.io/blog/crawl_test_css.html')\n",
    "soup = BeautifulSoup(res.content, 'html.parser')\n",
    "items =soup.select('ul#hobby_course_list li.course')\n",
    "for item in items:\n",
    "    print(item.get_text())"
   ]
  },
  {
   "cell_type": "code",
   "execution_count": 12,
   "id": "af0bebf5",
   "metadata": {},
   "outputs": [
    {
     "name": "stdout",
     "output_type": "stream",
     "text": [
      "(초급) - 강사가 실제 사용하는 자동 프로그램 소개 [2]\n",
      "(초급) - 필요한 프로그램 설치 시연 [5]\n",
      "(초급) - 데이터를 엑셀 파일로 만들기 [9]\n",
      "(초급) -     엑셀 파일 이쁘게! 이쁘게! [8]\n",
      "(초급) -     나대신 주기적으로 파이썬 프로그램 실행하기 [7]\n",
      "(초급) - 파이썬으로 슬랙(slack) 메신저에 글쓰기 [40]\n",
      "(초급) - 웹사이트 변경사항 주기적으로 체크해서, 메신저로 알람주기 [12]\n",
      "(초급) - 네이버 API 사용해서, 블로그에 글쓰기 [42]\n",
      "(중급) - 자동으로 쿠팡파트너스 API 로 가져온 상품 정보, 네이버 블로그/트위터에 홍보하기 [412]\n"
     ]
    }
   ],
   "source": [
    "import requests\n",
    "from bs4 import BeautifulSoup\n",
    "\n",
    "res = requests.get('https://davelee-fun.github.io/blog/crawl_test_css.html')\n",
    "soup = BeautifulSoup(res.content, 'html.parser')\n",
    "items =soup.select('ul#dev_course_list li.course')\n",
    "for item in items:\n",
    "    print(item.get_text())"
   ]
  },
  {
   "cell_type": "code",
   "execution_count": 13,
   "id": "b2dc9a4d",
   "metadata": {},
   "outputs": [
    {
     "name": "stdout",
     "output_type": "stream",
     "text": [
      "(중급) - 자동으로 쿠팡파트너스 API 로 가져온 상품 정보, 네이버 블로그/트위터에 홍보하기 [412]\n"
     ]
    }
   ],
   "source": [
    "import requests\n",
    "from bs4 import BeautifulSoup\n",
    "\n",
    "res = requests.get('https://davelee-fun.github.io/blog/crawl_test_css.html')\n",
    "soup = BeautifulSoup(res.content, 'html.parser')\n",
    "items =soup.select('ul#dev_course_list li.course.paid')\n",
    "for item in items:\n",
    "    print(item.get_text())"
   ]
  },
  {
   "cell_type": "code",
   "execution_count": 20,
   "id": "4fe69c32",
   "metadata": {},
   "outputs": [
    {
     "name": "stdout",
     "output_type": "stream",
     "text": [
      "(왕초보) - 클래스 소개\n",
      "(왕초보) - 블로그 개발 필요한 준비물 준비하기\n",
      "(왕초보) - Github pages 설정해서 블로그 첫 페이지 만들어보기\n",
      "(왕초보) - 초간단 페이지 만들어보기\n",
      "(왕초보) - 이쁘게 테마 적용해보기\n",
      "(왕초보) - 마크다운 기초 이해하고, 실제 나만의 블로그 페이지 만들기\n",
      "(왕초보) - 다양한 마크다운 기법 익혀보며, 나만의 블로그 페이지 꾸며보기\n"
     ]
    }
   ],
   "source": [
    "import requests\n",
    "from bs4 import BeautifulSoup\n",
    "\n",
    "res = requests.get('https://davelee-fun.github.io/blog/crawl_test_css.html')\n",
    "soup = BeautifulSoup(res.content, 'html.parser')\n",
    "items =soup.select('#start > a')\n",
    "for item in items:\n",
    "    print(item.get_text())"
   ]
  },
  {
   "cell_type": "markdown",
   "id": "c7bf9e84",
   "metadata": {},
   "source": [
    "#### 네이버 쇼핑 크롤링"
   ]
  },
  {
   "cell_type": "code",
   "execution_count": 21,
   "id": "3981133d",
   "metadata": {},
   "outputs": [
    {
     "name": "stdout",
     "output_type": "stream",
     "text": [
      "어버이날 용돈박스\n"
     ]
    }
   ],
   "source": [
    "import requests\n",
    "from bs4 import BeautifulSoup\n",
    "\n",
    "res = requests.get('https://search.shopping.naver.com/best100v2/main.nhn')\n",
    "soup = BeautifulSoup(res.content, 'html.parser')\n",
    "items =soup.select('#popular_srch_lst > li.on > span.txt > a')\n",
    "for item in items:\n",
    "    print(item.get_text())"
   ]
  },
  {
   "cell_type": "code",
   "execution_count": 22,
   "id": "650bb549",
   "metadata": {},
   "outputs": [
    {
     "name": "stdout",
     "output_type": "stream",
     "text": [
      "면도기\n"
     ]
    }
   ],
   "source": [
    "import requests\n",
    "from bs4 import BeautifulSoup\n",
    "\n",
    "res = requests.get('https://search.shopping.naver.com/best100v2/main.nhn')\n",
    "soup = BeautifulSoup(res.content, 'html.parser')\n",
    "items =soup.select('#popular_srch_lst > li:nth-child(2) > span.txt')\n",
    "for item in items:\n",
    "    print(item.get_text())"
   ]
  },
  {
   "cell_type": "markdown",
   "id": "4f383bda",
   "metadata": {},
   "source": [
    "#### 네이버쇼핑 어린이날 순위"
   ]
  },
  {
   "cell_type": "code",
   "execution_count": 23,
   "id": "7d2512da",
   "metadata": {},
   "outputs": [
    {
     "name": "stdout",
     "output_type": "stream",
     "text": [
      "\n",
      "1위\n",
      "어버이날 용돈박스\n",
      "\n",
      "상승1\n",
      "\n",
      "\n",
      "2위\n",
      "면도기\n",
      "\n",
      "하락1\n",
      "\n",
      "\n",
      "3위\n",
      "카네이션\n",
      "\n",
      "상승1\n",
      "\n",
      "\n",
      "4위\n",
      "어버이날 선물\n",
      "\n",
      "상승4\n",
      "\n",
      "\n",
      "5위\n",
      "크록스 키즈\n",
      "\n",
      "유지\n",
      "\n",
      "\n",
      "\n",
      "6위\n",
      "닌텐도 스위치\n",
      "\n",
      "하락3\n",
      "\n",
      "\n",
      "7위\n",
      "마스크\n",
      "\n",
      "상승2\n",
      "\n",
      "\n",
      "8위\n",
      "크록스\n",
      "\n",
      "하락2\n",
      "\n",
      "\n",
      "9위\n",
      "에어팟 프로\n",
      "\n",
      "상승4\n",
      "\n",
      "\n",
      "10위\n",
      "어버이날 카네이션\n",
      "\n",
      "상승12\n",
      "\n"
     ]
    }
   ],
   "source": [
    "import requests\n",
    "from bs4 import BeautifulSoup\n",
    "\n",
    "res = requests.get('https://search.shopping.naver.com/best100v2/main.nhn')\n",
    "soup = BeautifulSoup(res.content, 'html.parser')\n",
    "items =soup.select('#popular_srch_lst > li')\n",
    "for item in items:\n",
    "    print(item.get_text())"
   ]
  },
  {
   "cell_type": "markdown",
   "id": "09d0de09",
   "metadata": {},
   "source": [
    "#### 네이버쇼핑 전자제품 순위"
   ]
  },
  {
   "cell_type": "code",
   "execution_count": 26,
   "id": "606d208d",
   "metadata": {},
   "outputs": [
    {
     "name": "stdout",
     "output_type": "stream",
     "text": [
      "\n",
      "\n",
      "\n",
      "\n",
      "\n",
      "\n",
      "\n",
      "best\n",
      "1\n",
      "\n",
      "\n",
      "\n",
      "닌텐도 스위치 배터리개선\n",
      "\n",
      "\n",
      "최저384,290원\n",
      "\n",
      "\n",
      "\n",
      "판매처\n",
      " 상품평 (11,836)\n",
      "\n",
      "찜하기\n",
      "\n",
      "\n",
      "\n",
      "\n",
      "\n",
      "\n",
      "\n",
      "\n",
      "\n",
      "best\n",
      "2\n",
      "\n",
      "\n",
      "\n",
      "삼성전자 삼성 S27R35A\n",
      "\n",
      "\n",
      "최저195,000원\n",
      "\n",
      "\n",
      "\n",
      "판매처\n",
      " 상품평 (1,260)\n",
      "\n",
      "찜하기\n",
      "\n",
      "\n",
      "\n",
      "\n",
      "\n",
      "\n",
      "\n",
      "\n",
      "\n",
      "best\n",
      "3\n",
      "\n",
      "\n",
      "\n",
      "Apple 아이패드 에어 4세대 WIFI...\n",
      "\n",
      "\n",
      "최저718,940원\n",
      "\n",
      "\n",
      "\n",
      "판매처\n",
      " 상품평 (3,146)\n",
      "\n",
      "찜하기\n",
      "\n",
      "\n",
      "\n",
      "\n",
      "\n",
      "\n",
      "\n",
      "\n",
      "\n",
      "best\n",
      "4\n",
      "\n",
      "\n",
      "\n",
      "닌텐도 스위치 모여봐요 동물의 ...\n",
      "\n",
      "\n",
      "최저383,750원\n",
      "\n",
      "\n",
      "\n",
      "판매처\n",
      " 상품평 (10,737)\n",
      "\n",
      "찜하기\n",
      "\n",
      "\n",
      "\n",
      "\n",
      "\n",
      "\n",
      "\n",
      "\n",
      "\n",
      "best\n",
      "5\n",
      "\n",
      "\n",
      "\n",
      "삼성전자 갤럭시 버즈 프로\n",
      "\n",
      "\n",
      "최저177,130원\n",
      "\n",
      "\n",
      "\n",
      "판매처\n",
      " 상품평 (7,004)\n",
      "\n",
      "찜하기\n",
      "\n",
      "\n",
      "\n",
      "\n",
      "\n",
      "\n",
      "\n",
      "\n",
      "\n",
      "best\n",
      "6\n",
      "\n",
      "\n",
      "\n",
      "삼성전자 삼성 F24T350\n",
      "\n",
      "\n",
      "최저160,000원\n",
      "\n",
      "\n",
      "\n",
      "판매처\n",
      " 상품평 (1,208)\n",
      "\n",
      "찜하기\n",
      "\n",
      "\n",
      "\n",
      "\n",
      "\n",
      "\n",
      "\n",
      "\n",
      "\n",
      "best\n",
      "7\n",
      "\n",
      "\n",
      "\n",
      "EFM네트웍스 아이피타임 A3004T\n",
      "\n",
      "\n",
      "최저65,900원\n",
      "\n",
      "\n",
      "\n",
      "판매처\n",
      " 상품평 (1,444)\n",
      "\n",
      "찜하기\n",
      "\n",
      "\n"
     ]
    }
   ],
   "source": [
    "import requests\n",
    "from bs4 import BeautifulSoup\n",
    "\n",
    "res = requests.get('https://search.shopping.naver.com/best100v2/main.nhn')\n",
    "soup = BeautifulSoup(res.content, 'html.parser')\n",
    "items =soup.select('#cateProductListArea50000003 > ul > li')\n",
    "for item in items:\n",
    "    print(item.get_text())"
   ]
  },
  {
   "cell_type": "markdown",
   "id": "bb882bb2",
   "metadata": {},
   "source": [
    "#### 네이버쇼핑 스포츠레저 순위"
   ]
  },
  {
   "cell_type": "code",
   "execution_count": 27,
   "id": "319700b4",
   "metadata": {},
   "outputs": [
    {
     "name": "stdout",
     "output_type": "stream",
     "text": [
      "\n",
      "\n",
      "\n",
      "\n",
      "\n",
      "\n",
      "\n",
      "best\n",
      "1\n",
      "\n",
      "\n",
      "\n",
      "핑 G425 Max 드라이버 2021년\n",
      "\n",
      "\n",
      "최저611,670원\n",
      "\n",
      "\n",
      "\n",
      "판매처\n",
      " 상품평 (394)\n",
      "\n",
      "찜하기\n",
      "\n",
      "\n",
      "\n",
      "\n",
      "\n",
      "\n",
      "\n",
      "\n",
      "\n",
      "best\n",
      "2\n",
      "\n",
      "\n",
      "\n",
      "언더아머 스포츠 마스크 1368010...\n",
      "\n",
      "\n",
      "최저17,560원\n",
      "\n",
      "\n",
      "\n",
      "판매처\n",
      " 상품평 (8,037)\n",
      "\n",
      "찜하기\n",
      "\n",
      "\n",
      "\n",
      "\n",
      "\n",
      "\n",
      "\n",
      "\n",
      "\n",
      "best\n",
      "3\n",
      "\n",
      "\n",
      "\n",
      "나이키골프 리액트 인피니티 프로...\n",
      "\n",
      "\n",
      "최저73,220원\n",
      "\n",
      "\n",
      "\n",
      "판매처\n",
      " 상품평 (379)\n",
      "\n",
      "찜하기\n",
      "\n",
      "\n",
      "\n",
      "\n",
      "\n",
      "\n",
      "\n",
      "\n",
      "\n",
      "best\n",
      "4\n",
      "\n",
      "\n",
      "\n",
      "코베아 올인원 PO M 3웨이BBQ 구...\n",
      "\n",
      "\n",
      "최저125,000원\n",
      "\n",
      "\n",
      "\n",
      "판매처\n",
      " 상품평 (1,957)\n",
      "\n",
      "찜하기\n",
      "\n",
      "\n",
      "\n",
      "\n",
      "\n",
      "\n",
      "\n",
      "\n",
      "\n",
      "best\n",
      "5\n",
      "\n",
      "\n",
      "\n",
      "21년형 휠러스 - 에이스2 콤보 아...\n",
      "\n",
      "\n",
      "최저65,000원\n",
      "\n",
      "\n",
      "\n",
      "판매처\n",
      " 상품평 (409)\n",
      "\n",
      "찜하기\n",
      "\n",
      "\n",
      "\n",
      "\n",
      "\n",
      "\n",
      "\n",
      "\n",
      "\n",
      "best\n",
      "6\n",
      "\n",
      "\n",
      "\n",
      "노스페이스 슬라이트 후디 바람막...\n",
      "\n",
      "\n",
      "최저59,990원\n",
      "\n",
      "\n",
      "\n",
      "판매처\n",
      " 상품평 (89)\n",
      "\n",
      "찜하기\n",
      "\n",
      "\n",
      "\n",
      "\n",
      "\n",
      "\n",
      "\n",
      "\n",
      "\n",
      "best\n",
      "7\n",
      "\n",
      "\n",
      "\n",
      "나이키골프 에어줌 인피니티 투어...\n",
      "\n",
      "\n",
      "최저103,110원\n",
      "\n",
      "\n",
      "\n",
      "판매처\n",
      " 상품평 (138)\n",
      "\n",
      "찜하기\n",
      "\n",
      "\n"
     ]
    }
   ],
   "source": [
    "import requests\n",
    "from bs4 import BeautifulSoup\n",
    "\n",
    "res = requests.get('https://search.shopping.naver.com/best100v2/main.nhn')\n",
    "soup = BeautifulSoup(res.content, 'html.parser')\n",
    "items =soup.select('#cateProductListArea50000007 > ul > li')\n",
    "for item in items:\n",
    "    print(item.get_text())"
   ]
  },
  {
   "cell_type": "code",
   "execution_count": 50,
   "id": "10e6ca1a",
   "metadata": {},
   "outputs": [
    {
     "name": "stdout",
     "output_type": "stream",
     "text": [
      "https://search.shopping.naver.com/best100v2/main.nhn\n",
      "어버이날 용돈박스\n"
     ]
    }
   ],
   "source": [
    "import requests\n",
    "from bs4 import BeautifulSoup\n",
    "\n",
    "site_list = ['https://search.shopping.naver.com/best100v2/main.nhn']\n",
    "for site in site_list:\n",
    "    res = requests.get(site)\n",
    "    soup = BeautifulSoup(res.content, 'html.parser')\n",
    "    items = soup.select('#popular_srch_lst > li.on > span.txt')\n",
    "    print(site)\n",
    "    for item in items:\n",
    "        print(item.get_text())"
   ]
  },
  {
   "cell_type": "code",
   "execution_count": 2,
   "id": "9717bb67",
   "metadata": {},
   "outputs": [
    {
     "name": "stdout",
     "output_type": "stream",
     "text": [
      "https://finance.naver.com/sise/\n",
      "\n",
      "인기 검색 종목\n",
      "더보기\n",
      "\n",
      "1.HMM41,000상승\n",
      "2.삼성전자82,000하락\n",
      "3.셀트리온265,500상승\n",
      "4.노루페인트15,950상승\n",
      "5.카카오116,000상승\n",
      "6.위즈코프5,660상한가\n",
      "7.유바이오로직스39,200상승\n",
      "8.삼성중공업6,050상승\n",
      "9.삼성바이오로직스820,000상승\n",
      "10.휴마시스19,550상승\n",
      "\n",
      "주요 해외 지수\n",
      "\n",
      "다우산업34,548.53상승\n",
      " 나스닥13,632.84상승\n",
      " 홍콩H10,801.66상승\n",
      " 상해종합3,444.06상승\n",
      " 니케이22529,410.93상승\n",
      "\n",
      "\n"
     ]
    }
   ],
   "source": [
    "import requests\n",
    "from bs4 import BeautifulSoup\n",
    "\n",
    "site_list = ['https://finance.naver.com/sise/']\n",
    "for site in site_list:\n",
    "    res = requests.get(site)\n",
    "    soup = BeautifulSoup(res.content, 'html.parser')\n",
    "    items = soup.select('#contentarea > div.box_top_submain2 > div.rgt')\n",
    "    print(site)\n",
    "    for item in items:\n",
    "        print(item.get_text())"
   ]
  },
  {
   "cell_type": "code",
   "execution_count": 53,
   "id": "fd38bfe5",
   "metadata": {},
   "outputs": [
    {
     "name": "stdout",
     "output_type": "stream",
     "text": [
      "\n",
      "인기 검색 종목\n",
      "더보기\n",
      "\n",
      "1.삼성중공업6,250하락\n",
      "2.HMM37,800상승\n",
      "3.삼성전자82,200하락\n",
      "4.박셀바이오94,000상승\n",
      "5.셀트리온253,500하락\n",
      "6.SK이노베이션282,000상승\n",
      "7.카카오116,000상승\n",
      "8.금호석유291,000상승\n",
      "9.SK하이닉스129,500하락\n",
      "10.텔레칩스20,400상한가\n",
      "\n",
      "주요 해외 지수\n",
      "\n",
      "다우산업34,230.34상승\n",
      " 나스닥13,582.43하락\n",
      " 홍콩H10,721.87하락\n",
      " 상해종합3,446.86하락\n",
      " 니케이22529,332.79상승\n",
      "\n",
      "\n"
     ]
    }
   ],
   "source": [
    "import requests\n",
    "from bs4 import BeautifulSoup\n",
    "\n",
    "res = requests.get('https://finance.naver.com/sise/')\n",
    "soup = BeautifulSoup(res.content, 'html.parser')\n",
    "items =soup.select('#contentarea > div.box_top_submain2 > div.rgt')\n",
    "for item in items:\n",
    "    print(item.get_text())"
   ]
  },
  {
   "cell_type": "code",
   "execution_count": 57,
   "id": "775888b9",
   "metadata": {},
   "outputs": [
    {
     "name": "stdout",
     "output_type": "stream",
     "text": [
      "https://finance.naver.com/sise/\n",
      "삼성중공업\n",
      "HMM\n",
      "삼성전자\n",
      "박셀바이오\n",
      "셀트리온\n",
      "SK이노베이션\n",
      "카카오\n",
      "금호석유\n",
      "SK하이닉스\n",
      "텔레칩스\n"
     ]
    }
   ],
   "source": [
    "import requests\n",
    "from bs4 import BeautifulSoup\n",
    "\n",
    "site_list = ['https://finance.naver.com/sise/']\n",
    "for site in site_list:\n",
    "    res = requests.get(site)\n",
    "    soup = BeautifulSoup(res.content, 'html.parser')\n",
    "    items = soup.select('#popularItemList > li > a')\n",
    "    print(site)\n",
    "    for item in items:\n",
    "        print(item.get_text())"
   ]
  },
  {
   "cell_type": "code",
   "execution_count": 3,
   "id": "81cdcfe5",
   "metadata": {},
   "outputs": [
    {
     "name": "stdout",
     "output_type": "stream",
     "text": [
      "순위: 1. 종목: 삼성전자 현재가: 81,800\n",
      "순위: 2. 종목: HMM 현재가: 40,800\n",
      "순위: 3. 종목: 셀트리온 현재가: 264,000\n",
      "순위: 4. 종목: 진원생명과학 현재가: 17,100\n",
      "순위: 5. 종목: 카카오 현재가: 115,500\n",
      "순위: 6. 종목: 삼성중공업 현재가: 6,040\n",
      "순위: 7. 종목: 셀리드 현재가: 75,500\n",
      "순위: 8. 종목: 특수건설 현재가: 12,800\n",
      "순위: 9. 종목: 노루페인트 현재가: 15,700\n",
      "순위: 10. 종목: 유바이오로직스 현재가: 36,900\n"
     ]
    }
   ],
   "source": [
    "\n",
    "import requests\n",
    "from bs4 import BeautifulSoup\n",
    "\n",
    "res = requests.get('https://finance.naver.com/sise/')\n",
    "soup = BeautifulSoup(res.content, 'html.parser')\n",
    "items =soup.select('#popularItemList li')\n",
    "for item in items:\n",
    "    print('순위:',item.find('em').get_text(),'종목:',item.find('a').get_text(), '현재가:',item.find('span').get_text())"
   ]
  },
  {
   "cell_type": "markdown",
   "id": "fafa7b84",
   "metadata": {},
   "source": [
    "#### 크롤링할 페이지가 없는 경우 확인 방법"
   ]
  },
  {
   "cell_type": "code",
   "execution_count": 88,
   "id": "1093f810",
   "metadata": {},
   "outputs": [
    {
     "name": "stdout",
     "output_type": "stream",
     "text": [
      "페이지 없다요\n"
     ]
    }
   ],
   "source": [
    "import requests\n",
    "from bs4 import BeautifulSoup\n",
    "\n",
    "res = requests.get('https://davelee-fum.github.io/xxx')\n",
    "if res.status_code != 200:\n",
    "    print('페이지 없다요')\n",
    "else:\n",
    "    soup = BeautifulSoup(res.content, 'html.parser')\n",
    "    data = soup.select('h4.card-text')\n",
    "    for item in data:\n",
    "        print(item.get_text())"
   ]
  },
  {
   "cell_type": "markdown",
   "id": "4398d9b9",
   "metadata": {},
   "source": [
    "#### 여러페이지 한번에 크롤링하는 기법"
   ]
  },
  {
   "cell_type": "code",
   "execution_count": 100,
   "id": "7e23bde7",
   "metadata": {},
   "outputs": [
    {
     "name": "stdout",
     "output_type": "stream",
     "text": [
      "금융\n"
     ]
    }
   ],
   "source": [
    "import requests\n",
    "from bs4 import BeautifulSoup\n",
    "\n",
    "for page_num in range(10):\n",
    "    if page_num == 0:\n",
    "        res = requests.get('https://finance.naver.com/sise/')\n",
    "    else:\n",
    "        res = requests.get('https://finance.naver.com/sise/page'+ str(page_num+1))\n",
    "    soup = BeautifulSoup(res.content, 'html.parser')\n",
    "    \n",
    "    data = soup.select('#header > div.snb_area > div > div.sta > h1 > a.logo_service')\n",
    "    for item in data:\n",
    "        print(item.get_text().strip())\n",
    "        "
   ]
  },
  {
   "cell_type": "markdown",
   "id": "1b67c575",
   "metadata": {},
   "source": [
    "#### 엑셀파일 만들기"
   ]
  },
  {
   "cell_type": "code",
   "execution_count": 103,
   "id": "d653d8db",
   "metadata": {},
   "outputs": [],
   "source": [
    "import openpyxl\n",
    "\n",
    "def write_excel_template(filename, sheetname, listdata):\n",
    "    excel_file = openpyxl.Workbook()\n",
    "    excel_sheet = excel_file.active\n",
    "    excel_sheet.column_dimensions['A'].width = 100\n",
    "    excel_sheet.column_dimensions['B'].width = 20\n",
    "    \n",
    "    if sheetname !='':\n",
    "        excel_sheet.title = sheetname\n",
    "        \n",
    "    for item in listdata:\n",
    "        excel_sheet.append(item)\n",
    "    excel_file.save(filename)\n",
    "    excel_file.close()"
   ]
  },
  {
   "cell_type": "markdown",
   "id": "4312459f",
   "metadata": {},
   "source": [
    "#### 크롤링 엑셀파일 만들기"
   ]
  },
  {
   "cell_type": "code",
   "execution_count": null,
   "id": "02b68880",
   "metadata": {},
   "outputs": [],
   "source": [
    "import requests\n",
    "from bs4 import BeautifulSoup\n",
    "\n",
    "product_lists = list()\n",
    "\n",
    "for page_num in range(10):\n",
    "    if page_num == 0:\n",
    "        res = requests.get('https://finance.naver.com/sise/')\n",
    "    else:\n",
    "        res = requests.get('https://finance.naver.com/sise/page'+ str(page_num+1))\n",
    "    soup = BeautifulSoup(res.content, 'html.parser')\n",
    "    \n",
    "    data = soup.select('#header > div.snb_area > div > div.sta > h1 > a.logo_service')\n",
    "    for item in data:\n",
    "        product_name = item.select_one('')\n",
    "        product_date = item.select_one('')\n",
    "        product_info = [product_name.get_text().strip(), product_data.get_text()]\n",
    "        product_lists.append(product_info)"
   ]
  }
 ],
 "metadata": {
  "kernelspec": {
   "display_name": "Python 3",
   "language": "python",
   "name": "python3"
  },
  "language_info": {
   "codemirror_mode": {
    "name": "ipython",
    "version": 3
   },
   "file_extension": ".py",
   "mimetype": "text/x-python",
   "name": "python",
   "nbconvert_exporter": "python",
   "pygments_lexer": "ipython3",
   "version": "3.8.9"
  }
 },
 "nbformat": 4,
 "nbformat_minor": 5
}
